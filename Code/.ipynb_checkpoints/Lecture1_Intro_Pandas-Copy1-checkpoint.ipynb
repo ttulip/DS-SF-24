{
 "cells": [
  {
   "cell_type": "markdown",
   "metadata": {},
   "source": [
    "## Pandas and DataFrames Overview\n",
    "\n"
   ]
  },
  {
   "cell_type": "code",
   "execution_count": 1,
   "metadata": {
    "collapsed": false
   },
   "outputs": [],
   "source": [
    "import pandas as pd\n",
    "import numpy as np\n"
   ]
  },
  {
   "cell_type": "markdown",
   "metadata": {},
   "source": [
    "## Convert Dictionaries to DataFrame"
   ]
  },
  {
   "cell_type": "code",
   "execution_count": 2,
   "metadata": {
    "collapsed": false
   },
   "outputs": [
    {
     "name": "stdout",
     "output_type": "stream",
     "text": [
      "   Class  Graduated  Registered\n",
      "0      1         19          20\n",
      "1      2         28          30\n",
      "2      3         35          40\n",
      "3      4         20          35\n",
      "4      5         10          10\n"
     ]
    }
   ],
   "source": [
    "GA_DAT = {'Class':[1,2,3,4,5],\n",
    "             'Registered':[20,30,40,35,10],\n",
    "             'Graduated':[19,28,35,20,10]}\n",
    "df = pd.DataFrame(GA_DAT)   #Convert a dictionary to a dataframe\n",
    "print df   # now check index. Do you like it? (I don't!)"
   ]
  },
  {
   "cell_type": "markdown",
   "metadata": {},
   "source": [
    "## Let's set index to represent Class"
   ]
  },
  {
   "cell_type": "code",
   "execution_count": 3,
   "metadata": {
    "collapsed": false
   },
   "outputs": [
    {
     "name": "stdout",
     "output_type": "stream",
     "text": [
      "       Graduated  Registered\n",
      "Class                       \n",
      "1             19          20\n",
      "2             28          30\n",
      "3             35          40\n",
      "4             20          35\n",
      "5             10          10\n"
     ]
    }
   ],
   "source": [
    "df = df.set_index('Class')\n",
    "print df"
   ]
  },
  {
   "cell_type": "code",
   "execution_count": 4,
   "metadata": {
    "collapsed": false
   },
   "outputs": [
    {
     "name": "stdout",
     "output_type": "stream",
     "text": [
      "       Graduated  Registered\n",
      "Class                       \n",
      "1             19          20\n",
      "2             28          30\n",
      "       Graduated  Registered\n",
      "Class                       \n",
      "3             35          40\n",
      "4             20          35\n",
      "5             10          10\n"
     ]
    }
   ],
   "source": [
    "print df.head(2)\n",
    "print df.tail(3)"
   ]
  },
  {
   "cell_type": "code",
   "execution_count": 5,
   "metadata": {
    "collapsed": false
   },
   "outputs": [
    {
     "name": "stdout",
     "output_type": "stream",
     "text": [
      "Class\n",
      "1    19\n",
      "2    28\n",
      "3    35\n",
      "4    20\n",
      "5    10\n",
      "Name: Graduated, dtype: int64\n",
      "Class\n",
      "1    19\n",
      "2    28\n",
      "3    35\n",
      "4    20\n",
      "5    10\n",
      "Name: Graduated, dtype: int64\n"
     ]
    }
   ],
   "source": [
    "print df.Graduated \n",
    "print df['Graduated'] "
   ]
  },
  {
   "cell_type": "code",
   "execution_count": 6,
   "metadata": {
    "collapsed": false
   },
   "outputs": [
    {
     "name": "stdout",
     "output_type": "stream",
     "text": [
      "       Graduated  Registered\n",
      "Class                       \n",
      "1             19          20\n",
      "2             28          30\n",
      "3             35          40\n",
      "4             20          35\n",
      "5             10          10\n"
     ]
    }
   ],
   "source": [
    "print df[['Graduated','Registered']]"
   ]
  },
  {
   "cell_type": "code",
   "execution_count": 8,
   "metadata": {
    "collapsed": false
   },
   "outputs": [
    {
     "data": {
      "text/html": [
       "<div>\n",
       "<table border=\"1\" class=\"dataframe\">\n",
       "  <thead>\n",
       "    <tr style=\"text-align: right;\">\n",
       "      <th></th>\n",
       "      <th>Graduated</th>\n",
       "      <th>Registered</th>\n",
       "    </tr>\n",
       "  </thead>\n",
       "  <tbody>\n",
       "    <tr>\n",
       "      <th>count</th>\n",
       "      <td>5.000000</td>\n",
       "      <td>5.000000</td>\n",
       "    </tr>\n",
       "    <tr>\n",
       "      <th>mean</th>\n",
       "      <td>22.400000</td>\n",
       "      <td>27.000000</td>\n",
       "    </tr>\n",
       "    <tr>\n",
       "      <th>std</th>\n",
       "      <td>9.502631</td>\n",
       "      <td>12.041595</td>\n",
       "    </tr>\n",
       "    <tr>\n",
       "      <th>min</th>\n",
       "      <td>10.000000</td>\n",
       "      <td>10.000000</td>\n",
       "    </tr>\n",
       "    <tr>\n",
       "      <th>25%</th>\n",
       "      <td>19.000000</td>\n",
       "      <td>20.000000</td>\n",
       "    </tr>\n",
       "    <tr>\n",
       "      <th>50%</th>\n",
       "      <td>20.000000</td>\n",
       "      <td>30.000000</td>\n",
       "    </tr>\n",
       "    <tr>\n",
       "      <th>75%</th>\n",
       "      <td>28.000000</td>\n",
       "      <td>35.000000</td>\n",
       "    </tr>\n",
       "    <tr>\n",
       "      <th>max</th>\n",
       "      <td>35.000000</td>\n",
       "      <td>40.000000</td>\n",
       "    </tr>\n",
       "  </tbody>\n",
       "</table>\n",
       "</div>"
      ],
      "text/plain": [
       "       Graduated  Registered\n",
       "count   5.000000    5.000000\n",
       "mean   22.400000   27.000000\n",
       "std     9.502631   12.041595\n",
       "min    10.000000   10.000000\n",
       "25%    19.000000   20.000000\n",
       "50%    20.000000   30.000000\n",
       "75%    28.000000   35.000000\n",
       "max    35.000000   40.000000"
      ]
     },
     "execution_count": 8,
     "metadata": {},
     "output_type": "execute_result"
    }
   ],
   "source": [
    "df.describe()  #Summary of your data frame"
   ]
  },
  {
   "cell_type": "code",
   "execution_count": 10,
   "metadata": {
    "collapsed": false
   },
   "outputs": [
    {
     "name": "stdout",
     "output_type": "stream",
     "text": [
      "19.0\n"
     ]
    }
   ],
   "source": [
    "print df.describe()['Graduated']['25%']"
   ]
  },
  {
   "cell_type": "markdown",
   "metadata": {},
   "source": [
    "## Grouping"
   ]
  },
  {
   "cell_type": "code",
   "execution_count": 12,
   "metadata": {
    "collapsed": false
   },
   "outputs": [
    {
     "data": {
      "text/html": [
       "<div>\n",
       "<table border=\"1\" class=\"dataframe\">\n",
       "  <thead>\n",
       "    <tr style=\"text-align: right;\">\n",
       "      <th></th>\n",
       "      <th>A</th>\n",
       "      <th>B</th>\n",
       "      <th>C</th>\n",
       "      <th>D</th>\n",
       "    </tr>\n",
       "  </thead>\n",
       "  <tbody>\n",
       "    <tr>\n",
       "      <th>0</th>\n",
       "      <td>foo</td>\n",
       "      <td>one</td>\n",
       "      <td>1.863318</td>\n",
       "      <td>-0.809723</td>\n",
       "    </tr>\n",
       "    <tr>\n",
       "      <th>1</th>\n",
       "      <td>bar</td>\n",
       "      <td>one</td>\n",
       "      <td>-0.943454</td>\n",
       "      <td>-0.808633</td>\n",
       "    </tr>\n",
       "    <tr>\n",
       "      <th>2</th>\n",
       "      <td>foo</td>\n",
       "      <td>two</td>\n",
       "      <td>-0.234212</td>\n",
       "      <td>0.793629</td>\n",
       "    </tr>\n",
       "    <tr>\n",
       "      <th>3</th>\n",
       "      <td>bar</td>\n",
       "      <td>three</td>\n",
       "      <td>1.128464</td>\n",
       "      <td>-0.958524</td>\n",
       "    </tr>\n",
       "    <tr>\n",
       "      <th>4</th>\n",
       "      <td>foo</td>\n",
       "      <td>two</td>\n",
       "      <td>0.628704</td>\n",
       "      <td>-1.040631</td>\n",
       "    </tr>\n",
       "    <tr>\n",
       "      <th>5</th>\n",
       "      <td>bar</td>\n",
       "      <td>two</td>\n",
       "      <td>0.627747</td>\n",
       "      <td>-0.323390</td>\n",
       "    </tr>\n",
       "    <tr>\n",
       "      <th>6</th>\n",
       "      <td>foo</td>\n",
       "      <td>one</td>\n",
       "      <td>-0.025661</td>\n",
       "      <td>1.426052</td>\n",
       "    </tr>\n",
       "    <tr>\n",
       "      <th>7</th>\n",
       "      <td>foo</td>\n",
       "      <td>three</td>\n",
       "      <td>1.004662</td>\n",
       "      <td>0.377343</td>\n",
       "    </tr>\n",
       "  </tbody>\n",
       "</table>\n",
       "</div>"
      ],
      "text/plain": [
       "     A      B         C         D\n",
       "0  foo    one  1.863318 -0.809723\n",
       "1  bar    one -0.943454 -0.808633\n",
       "2  foo    two -0.234212  0.793629\n",
       "3  bar  three  1.128464 -0.958524\n",
       "4  foo    two  0.628704 -1.040631\n",
       "5  bar    two  0.627747 -0.323390\n",
       "6  foo    one -0.025661  1.426052\n",
       "7  foo  three  1.004662  0.377343"
      ]
     },
     "execution_count": 12,
     "metadata": {},
     "output_type": "execute_result"
    }
   ],
   "source": [
    "df = pd.DataFrame({'A' : ['foo', 'bar', 'foo', 'bar',\n",
    "                       'foo', 'bar', 'foo', 'foo'],\n",
    "                       'B' : ['one', 'one', 'two', 'three',\n",
    "                             'two', 'two', 'one', 'three'],\n",
    "                       'C' : np.random.randn(8),\n",
    "                       'D' : np.random.randn(8)})\n",
    "\n",
    "df"
   ]
  },
  {
   "cell_type": "code",
   "execution_count": 13,
   "metadata": {
    "collapsed": false
   },
   "outputs": [
    {
     "data": {
      "text/html": [
       "<div>\n",
       "<table border=\"1\" class=\"dataframe\">\n",
       "  <thead>\n",
       "    <tr style=\"text-align: right;\">\n",
       "      <th></th>\n",
       "      <th></th>\n",
       "      <th>C</th>\n",
       "      <th>D</th>\n",
       "    </tr>\n",
       "    <tr>\n",
       "      <th>A</th>\n",
       "      <th>B</th>\n",
       "      <th></th>\n",
       "      <th></th>\n",
       "    </tr>\n",
       "  </thead>\n",
       "  <tbody>\n",
       "    <tr>\n",
       "      <th rowspan=\"3\" valign=\"top\">bar</th>\n",
       "      <th>one</th>\n",
       "      <td>-0.943454</td>\n",
       "      <td>-0.808633</td>\n",
       "    </tr>\n",
       "    <tr>\n",
       "      <th>three</th>\n",
       "      <td>1.128464</td>\n",
       "      <td>-0.958524</td>\n",
       "    </tr>\n",
       "    <tr>\n",
       "      <th>two</th>\n",
       "      <td>0.627747</td>\n",
       "      <td>-0.323390</td>\n",
       "    </tr>\n",
       "    <tr>\n",
       "      <th rowspan=\"3\" valign=\"top\">foo</th>\n",
       "      <th>one</th>\n",
       "      <td>0.918828</td>\n",
       "      <td>0.308164</td>\n",
       "    </tr>\n",
       "    <tr>\n",
       "      <th>three</th>\n",
       "      <td>1.004662</td>\n",
       "      <td>0.377343</td>\n",
       "    </tr>\n",
       "    <tr>\n",
       "      <th>two</th>\n",
       "      <td>0.197246</td>\n",
       "      <td>-0.123501</td>\n",
       "    </tr>\n",
       "  </tbody>\n",
       "</table>\n",
       "</div>"
      ],
      "text/plain": [
       "                  C         D\n",
       "A   B                        \n",
       "bar one   -0.943454 -0.808633\n",
       "    three  1.128464 -0.958524\n",
       "    two    0.627747 -0.323390\n",
       "foo one    0.918828  0.308164\n",
       "    three  1.004662  0.377343\n",
       "    two    0.197246 -0.123501"
      ]
     },
     "execution_count": 13,
     "metadata": {},
     "output_type": "execute_result"
    }
   ],
   "source": [
    "df.groupby(['A','B']).mean()"
   ]
  },
  {
   "cell_type": "code",
   "execution_count": 14,
   "metadata": {
    "collapsed": false
   },
   "outputs": [
    {
     "name": "stdout",
     "output_type": "stream",
     "text": [
      "1.12846355124\n"
     ]
    },
    {
     "data": {
      "text/plain": [
       "1.1284635512447061"
      ]
     },
     "execution_count": 14,
     "metadata": {},
     "output_type": "execute_result"
    }
   ],
   "source": [
    "print df.groupby(['A','B']).mean()['C'][1]\n",
    "df.groupby(['A','B']).mean().C[1]"
   ]
  },
  {
   "cell_type": "markdown",
   "metadata": {
    "collapsed": true
   },
   "source": [
    "# Input/output almost any type of Data using Pandas\n",
    "Using pandas I/O API you can read from, convert to, or write in almost any type of dataset. Please refer to <http://pandas.pydata.org/pandas-docs/stable/io.html> for more info.\n",
    "\n",
    "## Let's read csv"
   ]
  },
  {
   "cell_type": "markdown",
   "metadata": {
    "collapsed": true
   },
   "source": [
    "You can read any file from your local computer by refering to the complete address of your data. Alternatively you can input data from internet."
   ]
  },
  {
   "cell_type": "markdown",
   "metadata": {},
   "source": [
    "The following DataFrame contains median price values of San Francisco housing market. It has two columns, one is Date and one is the median values for that month."
   ]
  },
  {
   "cell_type": "code",
   "execution_count": 15,
   "metadata": {
    "collapsed": false
   },
   "outputs": [
    {
     "name": "stdout",
     "output_type": "stream",
     "text": [
      "       Date    Value\n",
      "0  12/31/15  1138500\n",
      "1  11/30/15  1126750\n",
      "2  10/31/15  1093250\n",
      "3   9/30/15  1080750\n",
      "4   8/31/15  1138750\n"
     ]
    }
   ],
   "source": [
    "df = pd.read_csv('https://raw.githubusercontent.com/ga-students/DS-SF-24/master/Data/SF-Median-Prices.csv?token=APwQIDslwj3i5ASGmJ5-KnBzEa_ZYqGvks5XaFM8wA%3D%3D') \n",
    "print df.head()"
   ]
  },
  {
   "cell_type": "code",
   "execution_count": 16,
   "metadata": {
    "collapsed": false
   },
   "outputs": [],
   "source": [
    "df = df.set_index('Date')\n"
   ]
  },
  {
   "cell_type": "code",
   "execution_count": 17,
   "metadata": {
    "collapsed": false
   },
   "outputs": [
    {
     "data": {
      "text/html": [
       "<div>\n",
       "<table border=\"1\" class=\"dataframe\">\n",
       "  <thead>\n",
       "    <tr style=\"text-align: right;\">\n",
       "      <th></th>\n",
       "      <th>Value</th>\n",
       "    </tr>\n",
       "    <tr>\n",
       "      <th>Date</th>\n",
       "      <th></th>\n",
       "    </tr>\n",
       "  </thead>\n",
       "  <tbody>\n",
       "    <tr>\n",
       "      <th>12/31/15</th>\n",
       "      <td>1138500</td>\n",
       "    </tr>\n",
       "    <tr>\n",
       "      <th>11/30/15</th>\n",
       "      <td>1126750</td>\n",
       "    </tr>\n",
       "    <tr>\n",
       "      <th>10/31/15</th>\n",
       "      <td>1093250</td>\n",
       "    </tr>\n",
       "    <tr>\n",
       "      <th>9/30/15</th>\n",
       "      <td>1080750</td>\n",
       "    </tr>\n",
       "    <tr>\n",
       "      <th>8/31/15</th>\n",
       "      <td>1138750</td>\n",
       "    </tr>\n",
       "  </tbody>\n",
       "</table>\n",
       "</div>"
      ],
      "text/plain": [
       "            Value\n",
       "Date             \n",
       "12/31/15  1138500\n",
       "11/30/15  1126750\n",
       "10/31/15  1093250\n",
       "9/30/15   1080750\n",
       "8/31/15   1138750"
      ]
     },
     "execution_count": 17,
     "metadata": {},
     "output_type": "execute_result"
    }
   ],
   "source": [
    "df.head()"
   ]
  },
  {
   "cell_type": "code",
   "execution_count": 18,
   "metadata": {
    "collapsed": false
   },
   "outputs": [
    {
     "name": "stdout",
     "output_type": "stream",
     "text": [
      "642629.746835\n",
      "46178380642.1\n",
      "1185250\n",
      "250400\n"
     ]
    }
   ],
   "source": [
    "#now let's find the mean, variance, max and min of median home values\n",
    "print df.Value.mean()\n",
    "print df.Value.var() \n",
    "print df.Value.max()\n",
    "print df.Value.min()"
   ]
  },
  {
   "cell_type": "markdown",
   "metadata": {},
   "source": [
    "#### Now let's check the index of the day with minimum value"
   ]
  },
  {
   "cell_type": "code",
   "execution_count": 19,
   "metadata": {
    "collapsed": false
   },
   "outputs": [
    {
     "name": "stdout",
     "output_type": "stream",
     "text": [
      "['10/31/96']\n"
     ]
    }
   ],
   "source": [
    "DFMin = df[df.Value == df.Value.min()] \n",
    "print DFMin.index.values"
   ]
  },
  {
   "cell_type": "markdown",
   "metadata": {},
   "source": [
    "Now let's save our dataframe into \"html\" format"
   ]
  },
  {
   "cell_type": "code",
   "execution_count": 21,
   "metadata": {
    "collapsed": false
   },
   "outputs": [],
   "source": [
    "df.to_html('SFData.html') #check your working directory"
   ]
  },
  {
   "cell_type": "markdown",
   "metadata": {},
   "source": [
    "## Now let's rename columns in our DataFrame"
   ]
  },
  {
   "cell_type": "code",
   "execution_count": 22,
   "metadata": {
    "collapsed": false
   },
   "outputs": [],
   "source": [
    "df2 = df.rename(columns = {'Value':'SFHomeValue'})"
   ]
  },
  {
   "cell_type": "code",
   "execution_count": 23,
   "metadata": {
    "collapsed": false
   },
   "outputs": [
    {
     "data": {
      "text/html": [
       "<div>\n",
       "<table border=\"1\" class=\"dataframe\">\n",
       "  <thead>\n",
       "    <tr style=\"text-align: right;\">\n",
       "      <th></th>\n",
       "      <th>SFHomeValue</th>\n",
       "    </tr>\n",
       "    <tr>\n",
       "      <th>Date</th>\n",
       "      <th></th>\n",
       "    </tr>\n",
       "  </thead>\n",
       "  <tbody>\n",
       "    <tr>\n",
       "      <th>12/31/15</th>\n",
       "      <td>1138500</td>\n",
       "    </tr>\n",
       "    <tr>\n",
       "      <th>11/30/15</th>\n",
       "      <td>1126750</td>\n",
       "    </tr>\n",
       "    <tr>\n",
       "      <th>10/31/15</th>\n",
       "      <td>1093250</td>\n",
       "    </tr>\n",
       "    <tr>\n",
       "      <th>9/30/15</th>\n",
       "      <td>1080750</td>\n",
       "    </tr>\n",
       "    <tr>\n",
       "      <th>8/31/15</th>\n",
       "      <td>1138750</td>\n",
       "    </tr>\n",
       "  </tbody>\n",
       "</table>\n",
       "</div>"
      ],
      "text/plain": [
       "          SFHomeValue\n",
       "Date                 \n",
       "12/31/15      1138500\n",
       "11/30/15      1126750\n",
       "10/31/15      1093250\n",
       "9/30/15       1080750\n",
       "8/31/15       1138750"
      ]
     },
     "execution_count": 23,
     "metadata": {},
     "output_type": "execute_result"
    }
   ],
   "source": [
    "df2.head()"
   ]
  },
  {
   "cell_type": "code",
   "execution_count": 24,
   "metadata": {
    "collapsed": false
   },
   "outputs": [
    {
     "data": {
      "text/html": [
       "<div>\n",
       "<table border=\"1\" class=\"dataframe\">\n",
       "  <thead>\n",
       "    <tr style=\"text-align: right;\">\n",
       "      <th></th>\n",
       "      <th>SFHomeValue</th>\n",
       "    </tr>\n",
       "    <tr>\n",
       "      <th>Date</th>\n",
       "      <th></th>\n",
       "    </tr>\n",
       "  </thead>\n",
       "  <tbody>\n",
       "    <tr>\n",
       "      <th>12/31/15</th>\n",
       "      <td>1138500</td>\n",
       "    </tr>\n",
       "    <tr>\n",
       "      <th>11/30/15</th>\n",
       "      <td>1126750</td>\n",
       "    </tr>\n",
       "    <tr>\n",
       "      <th>10/31/15</th>\n",
       "      <td>1093250</td>\n",
       "    </tr>\n",
       "  </tbody>\n",
       "</table>\n",
       "</div>"
      ],
      "text/plain": [
       "          SFHomeValue\n",
       "Date                 \n",
       "12/31/15      1138500\n",
       "11/30/15      1126750\n",
       "10/31/15      1093250"
      ]
     },
     "execution_count": 24,
     "metadata": {},
     "output_type": "execute_result"
    }
   ],
   "source": [
    "df2.loc['12/31/15':'10/31/15']  #Access to a portion of DataFrame using index\n",
    "# df2.loc['12/31/15':'10/31/15',['SFHomeValue']]  Alternatively"
   ]
  },
  {
   "cell_type": "markdown",
   "metadata": {},
   "source": [
    "#### Check number of observations and variables in your data set"
   ]
  },
  {
   "cell_type": "code",
   "execution_count": 25,
   "metadata": {
    "collapsed": false
   },
   "outputs": [
    {
     "name": "stdout",
     "output_type": "stream",
     "text": [
      "SFHomeValue    237\n",
      "dtype: int64\n",
      "237\n",
      "1\n"
     ]
    }
   ],
   "source": [
    "print df2.count()  #check how many observations are in your data set\n",
    "print df2.shape[0] #number of observations\n",
    "print df2.shape[1] #number of variables"
   ]
  },
  {
   "cell_type": "code",
   "execution_count": 26,
   "metadata": {
    "collapsed": false
   },
   "outputs": [
    {
     "data": {
      "text/html": [
       "<div>\n",
       "<table border=\"1\" class=\"dataframe\">\n",
       "  <thead>\n",
       "    <tr style=\"text-align: right;\">\n",
       "      <th></th>\n",
       "      <th>SFHomeValue</th>\n",
       "    </tr>\n",
       "  </thead>\n",
       "  <tbody>\n",
       "    <tr>\n",
       "      <th>count</th>\n",
       "      <td>237.000000</td>\n",
       "    </tr>\n",
       "    <tr>\n",
       "      <th>mean</th>\n",
       "      <td>642629.746835</td>\n",
       "    </tr>\n",
       "    <tr>\n",
       "      <th>std</th>\n",
       "      <td>214891.555539</td>\n",
       "    </tr>\n",
       "    <tr>\n",
       "      <th>min</th>\n",
       "      <td>250400.000000</td>\n",
       "    </tr>\n",
       "    <tr>\n",
       "      <th>25%</th>\n",
       "      <td>504000.000000</td>\n",
       "    </tr>\n",
       "    <tr>\n",
       "      <th>50%</th>\n",
       "      <td>683750.000000</td>\n",
       "    </tr>\n",
       "    <tr>\n",
       "      <th>75%</th>\n",
       "      <td>767500.000000</td>\n",
       "    </tr>\n",
       "    <tr>\n",
       "      <th>max</th>\n",
       "      <td>1185250.000000</td>\n",
       "    </tr>\n",
       "  </tbody>\n",
       "</table>\n",
       "</div>"
      ],
      "text/plain": [
       "          SFHomeValue\n",
       "count      237.000000\n",
       "mean    642629.746835\n",
       "std     214891.555539\n",
       "min     250400.000000\n",
       "25%     504000.000000\n",
       "50%     683750.000000\n",
       "75%     767500.000000\n",
       "max    1185250.000000"
      ]
     },
     "execution_count": 26,
     "metadata": {},
     "output_type": "execute_result"
    }
   ],
   "source": [
    "# Summary of data\n",
    "df2.describe()"
   ]
  },
  {
   "cell_type": "code",
   "execution_count": 27,
   "metadata": {
    "collapsed": false
   },
   "outputs": [
    {
     "data": {
      "text/plain": [
       "<bound method Series.sort of Date\n",
       "12/31/15    1138500\n",
       "11/30/15    1126750\n",
       "10/31/15    1093250\n",
       "9/30/15     1080750\n",
       "8/31/15     1138750\n",
       "7/31/15     1124000\n",
       "6/30/15     1156000\n",
       "5/31/15     1125350\n",
       "4/30/15     1115500\n",
       "3/31/15     1185250\n",
       "2/28/15     1020875\n",
       "1/31/15      963250\n",
       "12/31/14    1002675\n",
       "11/30/14    1024825\n",
       "10/31/14     973250\n",
       "9/30/14      954000\n",
       "8/31/14      967750\n",
       "7/31/14      988450\n",
       "6/30/14      966550\n",
       "5/31/14      949000\n",
       "4/30/14      941000\n",
       "3/31/14      943500\n",
       "2/28/14      894100\n",
       "1/31/14      867000\n",
       "12/31/13     844650\n",
       "11/30/13     877750\n",
       "10/31/13     849750\n",
       "9/30/13      832500\n",
       "8/31/13      841500\n",
       "7/31/13      849500\n",
       "             ...   \n",
       "9/30/98      337800\n",
       "8/31/98      332975\n",
       "7/31/98      336400\n",
       "6/30/98      330125\n",
       "5/31/98      333250\n",
       "4/30/98      315500\n",
       "3/31/98      301000\n",
       "2/28/98      299700\n",
       "1/31/98      317800\n",
       "12/31/97     312350\n",
       "11/30/97     304650\n",
       "10/31/97     298750\n",
       "9/30/97      295700\n",
       "8/31/97      289300\n",
       "7/31/97      283250\n",
       "6/30/97      283625\n",
       "5/31/97      281875\n",
       "4/30/97      280350\n",
       "3/31/97      271850\n",
       "2/28/97      268800\n",
       "1/31/97      268250\n",
       "12/31/96     263750\n",
       "11/30/96     255350\n",
       "10/31/96     250400\n",
       "9/30/96      262600\n",
       "8/31/96      268650\n",
       "7/31/96      273000\n",
       "6/30/96      274250\n",
       "5/31/96      265700\n",
       "4/30/96      259300\n",
       "Name: SFHomeValue, dtype: int64>"
      ]
     },
     "execution_count": 27,
     "metadata": {},
     "output_type": "execute_result"
    }
   ],
   "source": [
    "df2.SFHomeValue.sort"
   ]
  },
  {
   "cell_type": "code",
   "execution_count": 28,
   "metadata": {
    "collapsed": false
   },
   "outputs": [
    {
     "data": {
      "text/html": [
       "<div>\n",
       "<table border=\"1\" class=\"dataframe\">\n",
       "  <thead>\n",
       "    <tr style=\"text-align: right;\">\n",
       "      <th></th>\n",
       "      <th>SFHomeValue</th>\n",
       "    </tr>\n",
       "    <tr>\n",
       "      <th>Date</th>\n",
       "      <th></th>\n",
       "    </tr>\n",
       "  </thead>\n",
       "  <tbody>\n",
       "    <tr>\n",
       "      <th>12/31/15</th>\n",
       "      <td>1138500</td>\n",
       "    </tr>\n",
       "    <tr>\n",
       "      <th>11/30/15</th>\n",
       "      <td>1126750</td>\n",
       "    </tr>\n",
       "    <tr>\n",
       "      <th>10/31/15</th>\n",
       "      <td>1093250</td>\n",
       "    </tr>\n",
       "    <tr>\n",
       "      <th>9/30/15</th>\n",
       "      <td>1080750</td>\n",
       "    </tr>\n",
       "    <tr>\n",
       "      <th>8/31/15</th>\n",
       "      <td>1138750</td>\n",
       "    </tr>\n",
       "    <tr>\n",
       "      <th>7/31/15</th>\n",
       "      <td>1124000</td>\n",
       "    </tr>\n",
       "    <tr>\n",
       "      <th>6/30/15</th>\n",
       "      <td>1156000</td>\n",
       "    </tr>\n",
       "    <tr>\n",
       "      <th>5/31/15</th>\n",
       "      <td>1125350</td>\n",
       "    </tr>\n",
       "    <tr>\n",
       "      <th>4/30/15</th>\n",
       "      <td>1115500</td>\n",
       "    </tr>\n",
       "    <tr>\n",
       "      <th>3/31/15</th>\n",
       "      <td>1185250</td>\n",
       "    </tr>\n",
       "    <tr>\n",
       "      <th>2/28/15</th>\n",
       "      <td>1020875</td>\n",
       "    </tr>\n",
       "    <tr>\n",
       "      <th>12/31/14</th>\n",
       "      <td>1002675</td>\n",
       "    </tr>\n",
       "    <tr>\n",
       "      <th>11/30/14</th>\n",
       "      <td>1024825</td>\n",
       "    </tr>\n",
       "  </tbody>\n",
       "</table>\n",
       "</div>"
      ],
      "text/plain": [
       "          SFHomeValue\n",
       "Date                 \n",
       "12/31/15      1138500\n",
       "11/30/15      1126750\n",
       "10/31/15      1093250\n",
       "9/30/15       1080750\n",
       "8/31/15       1138750\n",
       "7/31/15       1124000\n",
       "6/30/15       1156000\n",
       "5/31/15       1125350\n",
       "4/30/15       1115500\n",
       "3/31/15       1185250\n",
       "2/28/15       1020875\n",
       "12/31/14      1002675\n",
       "11/30/14      1024825"
      ]
     },
     "execution_count": 28,
     "metadata": {},
     "output_type": "execute_result"
    }
   ],
   "source": [
    "df3 = df2[df2.SFHomeValue > 1000000]\n",
    "df3"
   ]
  },
  {
   "cell_type": "code",
   "execution_count": 29,
   "metadata": {
    "collapsed": false
   },
   "outputs": [
    {
     "data": {
      "text/html": [
       "<div>\n",
       "<table border=\"1\" class=\"dataframe\">\n",
       "  <thead>\n",
       "    <tr style=\"text-align: right;\">\n",
       "      <th></th>\n",
       "      <th>SFHomeValue</th>\n",
       "    </tr>\n",
       "    <tr>\n",
       "      <th>Date</th>\n",
       "      <th></th>\n",
       "    </tr>\n",
       "  </thead>\n",
       "  <tbody>\n",
       "    <tr>\n",
       "      <th>12/31/15</th>\n",
       "      <td>False</td>\n",
       "    </tr>\n",
       "    <tr>\n",
       "      <th>11/30/15</th>\n",
       "      <td>False</td>\n",
       "    </tr>\n",
       "    <tr>\n",
       "      <th>10/31/15</th>\n",
       "      <td>False</td>\n",
       "    </tr>\n",
       "    <tr>\n",
       "      <th>9/30/15</th>\n",
       "      <td>False</td>\n",
       "    </tr>\n",
       "    <tr>\n",
       "      <th>8/31/15</th>\n",
       "      <td>False</td>\n",
       "    </tr>\n",
       "    <tr>\n",
       "      <th>7/31/15</th>\n",
       "      <td>False</td>\n",
       "    </tr>\n",
       "    <tr>\n",
       "      <th>6/30/15</th>\n",
       "      <td>False</td>\n",
       "    </tr>\n",
       "    <tr>\n",
       "      <th>5/31/15</th>\n",
       "      <td>False</td>\n",
       "    </tr>\n",
       "    <tr>\n",
       "      <th>4/30/15</th>\n",
       "      <td>False</td>\n",
       "    </tr>\n",
       "    <tr>\n",
       "      <th>3/31/15</th>\n",
       "      <td>False</td>\n",
       "    </tr>\n",
       "    <tr>\n",
       "      <th>2/28/15</th>\n",
       "      <td>False</td>\n",
       "    </tr>\n",
       "    <tr>\n",
       "      <th>12/31/14</th>\n",
       "      <td>False</td>\n",
       "    </tr>\n",
       "    <tr>\n",
       "      <th>11/30/14</th>\n",
       "      <td>False</td>\n",
       "    </tr>\n",
       "  </tbody>\n",
       "</table>\n",
       "</div>"
      ],
      "text/plain": [
       "         SFHomeValue\n",
       "Date                \n",
       "12/31/15       False\n",
       "11/30/15       False\n",
       "10/31/15       False\n",
       "9/30/15        False\n",
       "8/31/15        False\n",
       "7/31/15        False\n",
       "6/30/15        False\n",
       "5/31/15        False\n",
       "4/30/15        False\n",
       "3/31/15        False\n",
       "2/28/15        False\n",
       "12/31/14       False\n",
       "11/30/14       False"
      ]
     },
     "execution_count": 29,
     "metadata": {},
     "output_type": "execute_result"
    }
   ],
   "source": [
    "pd.isnull(df3)  #Looking for missing values - output is boolean - True if there is any missing value"
   ]
  },
  {
   "cell_type": "markdown",
   "metadata": {},
   "source": [
    "# Setting your working Directory (Optional Materials)"
   ]
  },
  {
   "cell_type": "code",
   "execution_count": 30,
   "metadata": {
    "collapsed": false
   },
   "outputs": [
    {
     "data": {
      "text/plain": [
       "'/Users/hamed/Desktop/GA24Codes'"
      ]
     },
     "execution_count": 30,
     "metadata": {},
     "output_type": "execute_result"
    }
   ],
   "source": [
    "#How to know your current working directory?\n",
    "import os\n",
    "from os import getcwd\n",
    "getcwd()"
   ]
  },
  {
   "cell_type": "code",
   "execution_count": 31,
   "metadata": {
    "collapsed": false
   },
   "outputs": [],
   "source": [
    "# You can set your working directory to where you keep your data\n",
    "os.chdir('/Users/hamed/Desktop/DS-SF-24/Data/') #PLEASE SET THIS WORKING DIRECTORY TO YOURS"
   ]
  },
  {
   "cell_type": "markdown",
   "metadata": {},
   "source": [
    "From now on, you can refer to your files locally i.e. you can only refer to the name of your dataset, etc."
   ]
  },
  {
   "cell_type": "markdown",
   "metadata": {},
   "source": [
    "# Next Steps\n",
    "\n",
    "**Recommended Resources**\n",
    "\n",
    "Name | Description\n",
    "--- | ---\n",
    "[Official Pandas Tutorials](http://pandas.pydata.org/pandas-docs/stable/tutorials.html) | Wes & Company's selection of tutorials and lectures\n",
    "[Julia Evans Pandas Cookbook](https://github.com/jvns/pandas-cookbook) | Great resource with examples from weather, bikes and 311 calls\n",
    "[Learn Pandas Tutorials](https://bitbucket.org/hrojas/learn-pandas) | A great series of Pandas tutorials from Dave Rojas\n",
    "[Research Computing Python Data PYNBs](https://github.com/ResearchComputing/Meetup-Fall-2013/tree/master/python) | A super awesome set of python notebooks from a meetup-based course exclusively devoted to pandas"
   ]
  },
  {
   "cell_type": "code",
   "execution_count": null,
   "metadata": {
    "collapsed": true
   },
   "outputs": [],
   "source": []
  }
 ],
 "metadata": {
  "kernelspec": {
   "display_name": "Python 2",
   "language": "python",
   "name": "python2"
  },
  "language_info": {
   "codemirror_mode": {
    "name": "ipython",
    "version": 2
   },
   "file_extension": ".py",
   "mimetype": "text/x-python",
   "name": "python",
   "nbconvert_exporter": "python",
   "pygments_lexer": "ipython2",
   "version": "2.7.11"
  }
 },
 "nbformat": 4,
 "nbformat_minor": 0
}
